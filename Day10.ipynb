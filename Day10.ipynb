{
  "nbformat": 4,
  "nbformat_minor": 0,
  "metadata": {
    "colab": {
      "provenance": []
    },
    "kernelspec": {
      "name": "python3",
      "display_name": "Python 3"
    },
    "language_info": {
      "name": "python"
    }
  },
  "cells": [
    {
      "cell_type": "markdown",
      "source": [
        "# Nested Loop"
      ],
      "metadata": {
        "id": "PNEfsJgh6Gfj"
      }
    },
    {
      "cell_type": "markdown",
      "source": [],
      "metadata": {
        "id": "GpOjYdWDS4W8"
      }
    },
    {
      "cell_type": "code",
      "source": [
        "rows = 4\n",
        "#Outer loop\n",
        "for i in range(rows):\n",
        "    #inner loop\n",
        "    for j in range(i+1):\n",
        "        print('*', end = ' ')\n",
        "    print('')"
      ],
      "metadata": {
        "colab": {
          "base_uri": "https://localhost:8080/"
        },
        "id": "Guqad-9HbrdP",
        "outputId": "15efe1d7-e5e0-468d-b9eb-fc0c17b488fc"
      },
      "execution_count": 1,
      "outputs": [
        {
          "output_type": "stream",
          "name": "stdout",
          "text": [
            "* \n",
            "* * \n",
            "* * * \n",
            "* * * * \n"
          ]
        }
      ]
    },
    {
      "cell_type": "code",
      "execution_count": 3,
      "metadata": {
        "colab": {
          "base_uri": "https://localhost:8080/"
        },
        "id": "IUsrOfZF6EJg",
        "outputId": "96a7ab94-a611-4685-fc45-d5b7140bcdda"
      },
      "outputs": [
        {
          "output_type": "stream",
          "name": "stdout",
          "text": [
            "1 1\n",
            "1 2\n",
            "1 3\n",
            "2 1\n",
            "2 2\n",
            "2 3\n",
            "3 1\n",
            "3 2\n",
            "3 3\n"
          ]
        }
      ],
      "source": [
        "num = [1, 2, 3]\n",
        "# outter loop\n",
        "for i in num:\n",
        "   #Inner loop\n",
        "    for j in num:\n",
        "        print(i, j)"
      ]
    },
    {
      "cell_type": "code",
      "source": [
        "num = [1, 2, 3, 4, 5]\n",
        "# outter loop\n",
        "for i in num:\n",
        "   #Inner loop\n",
        "   j = 0\n",
        "   while j < i:\n",
        "        print(num[j], end = ' ')\n",
        "        j += 1\n",
        "   print('\\n')\n",
        "#"
      ],
      "metadata": {
        "id": "gi9qsKMI6acJ",
        "colab": {
          "base_uri": "https://localhost:8080/"
        },
        "outputId": "96926eab-e6f7-48b2-c266-ae2808df6bbe"
      },
      "execution_count": 7,
      "outputs": [
        {
          "output_type": "stream",
          "name": "stdout",
          "text": [
            "1 \n",
            "\n",
            "1 2 \n",
            "\n",
            "1 2 3 \n",
            "\n",
            "1 2 3 4 \n",
            "\n",
            "1 2 3 4 5 \n",
            "\n"
          ]
        }
      ]
    },
    {
      "cell_type": "code",
      "source": [
        "num = [1, 2, 3, 4, 5]\n",
        "# outter loop\n",
        "for i in num:\n",
        "   #Inner loop\n",
        "   j = 0\n",
        "   while j < len(num):\n",
        "        print(num[j], end = ' ')\n",
        "        j += 1\n",
        "   print('\\n')\n",
        "#"
      ],
      "metadata": {
        "colab": {
          "base_uri": "https://localhost:8080/"
        },
        "id": "lDykMf4EdiB-",
        "outputId": "55b72170-9d14-49ec-dfd5-562743ae3fd6"
      },
      "execution_count": 8,
      "outputs": [
        {
          "output_type": "stream",
          "name": "stdout",
          "text": [
            "1 2 3 4 5 \n",
            "\n",
            "1 2 3 4 5 \n",
            "\n",
            "1 2 3 4 5 \n",
            "\n",
            "1 2 3 4 5 \n",
            "\n",
            "1 2 3 4 5 \n",
            "\n"
          ]
        }
      ]
    }
  ]
}