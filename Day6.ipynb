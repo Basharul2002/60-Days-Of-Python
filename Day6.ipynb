{
  "nbformat": 4,
  "nbformat_minor": 0,
  "metadata": {
    "colab": {
      "provenance": []
    },
    "kernelspec": {
      "name": "python3",
      "display_name": "Python 3"
    },
    "language_info": {
      "name": "python"
    }
  },
  "cells": [
    {
      "cell_type": "code",
      "execution_count": 12,
      "metadata": {
        "id": "lWU2ATYVAjMy"
      },
      "outputs": [],
      "source": [
        "# Assign Values\n",
        "\n",
        "x = 10\n",
        "y = 3"
      ]
    },
    {
      "cell_type": "code",
      "source": [
        "x+y"
      ],
      "metadata": {
        "colab": {
          "base_uri": "https://localhost:8080/"
        },
        "id": "sSGo3ifIDWXv",
        "outputId": "b409f319-0ba2-41c6-9027-cf79b654d51b"
      },
      "execution_count": 13,
      "outputs": [
        {
          "output_type": "execute_result",
          "data": {
            "text/plain": [
              "13"
            ]
          },
          "metadata": {},
          "execution_count": 13
        }
      ]
    },
    {
      "cell_type": "code",
      "source": [
        "x-y"
      ],
      "metadata": {
        "colab": {
          "base_uri": "https://localhost:8080/"
        },
        "id": "G2NbNqD1DbUT",
        "outputId": "b38b681a-d0e0-48a3-b84a-35876eca38c8"
      },
      "execution_count": 14,
      "outputs": [
        {
          "output_type": "execute_result",
          "data": {
            "text/plain": [
              "7"
            ]
          },
          "metadata": {},
          "execution_count": 14
        }
      ]
    },
    {
      "cell_type": "code",
      "source": [
        "x*y"
      ],
      "metadata": {
        "colab": {
          "base_uri": "https://localhost:8080/"
        },
        "id": "eglRs22aDdhE",
        "outputId": "e5a658db-83e5-43e4-916f-29bc128d9973"
      },
      "execution_count": 15,
      "outputs": [
        {
          "output_type": "execute_result",
          "data": {
            "text/plain": [
              "30"
            ]
          },
          "metadata": {},
          "execution_count": 15
        }
      ]
    },
    {
      "cell_type": "code",
      "source": [
        "x/y"
      ],
      "metadata": {
        "colab": {
          "base_uri": "https://localhost:8080/"
        },
        "id": "ikx7hZRGDhEr",
        "outputId": "39840aa0-66d4-44be-c2d2-435e97a85106"
      },
      "execution_count": 16,
      "outputs": [
        {
          "output_type": "execute_result",
          "data": {
            "text/plain": [
              "3.3333333333333335"
            ]
          },
          "metadata": {},
          "execution_count": 16
        }
      ]
    },
    {
      "cell_type": "code",
      "source": [
        "x ** y"
      ],
      "metadata": {
        "colab": {
          "base_uri": "https://localhost:8080/"
        },
        "id": "rn1vCGaQDr43",
        "outputId": "2d7eccef-2e6c-4ce4-8973-8b56f0c08abd"
      },
      "execution_count": 17,
      "outputs": [
        {
          "output_type": "execute_result",
          "data": {
            "text/plain": [
              "1000"
            ]
          },
          "metadata": {},
          "execution_count": 17
        }
      ]
    },
    {
      "cell_type": "code",
      "source": [
        "x // y"
      ],
      "metadata": {
        "colab": {
          "base_uri": "https://localhost:8080/"
        },
        "id": "yQqr9ONBDvVE",
        "outputId": "1b8c9ef9-a33e-4ebc-d6b7-90d1f4ddd024"
      },
      "execution_count": 18,
      "outputs": [
        {
          "output_type": "execute_result",
          "data": {
            "text/plain": [
              "3"
            ]
          },
          "metadata": {},
          "execution_count": 18
        }
      ]
    },
    {
      "cell_type": "code",
      "source": [
        "# Identity Operator (is/ not is) Here check the memory address\n",
        "x = 1000\n",
        "y = x\n",
        "z = 1000"
      ],
      "metadata": {
        "id": "4evTUN-lERmD"
      },
      "execution_count": 26,
      "outputs": []
    },
    {
      "cell_type": "code",
      "source": [
        "x == y  #Compersion"
      ],
      "metadata": {
        "colab": {
          "base_uri": "https://localhost:8080/"
        },
        "id": "aKJf9-jeEcnj",
        "outputId": "659709a2-43b5-4996-d58f-3c9e60c68c12"
      },
      "execution_count": 22,
      "outputs": [
        {
          "output_type": "execute_result",
          "data": {
            "text/plain": [
              "True"
            ]
          },
          "metadata": {},
          "execution_count": 22
        }
      ]
    },
    {
      "cell_type": "code",
      "source": [
        "x is y  #Identity"
      ],
      "metadata": {
        "colab": {
          "base_uri": "https://localhost:8080/"
        },
        "id": "nbwI6xOGE1D3",
        "outputId": "ea1eedf6-4530-4986-f731-c9b3d3768bc2"
      },
      "execution_count": 24,
      "outputs": [
        {
          "output_type": "execute_result",
          "data": {
            "text/plain": [
              "True"
            ]
          },
          "metadata": {},
          "execution_count": 24
        }
      ]
    },
    {
      "cell_type": "code",
      "source": [
        "x == z  #Compersion"
      ],
      "metadata": {
        "colab": {
          "base_uri": "https://localhost:8080/"
        },
        "id": "rRVfTXwEE6PO",
        "outputId": "abdef102-f7ad-44a1-dc8d-fe4aa0f0efc7"
      },
      "execution_count": 27,
      "outputs": [
        {
          "output_type": "execute_result",
          "data": {
            "text/plain": [
              "True"
            ]
          },
          "metadata": {},
          "execution_count": 27
        }
      ]
    },
    {
      "cell_type": "code",
      "source": [
        "x is z  #Identity"
      ],
      "metadata": {
        "colab": {
          "base_uri": "https://localhost:8080/"
        },
        "id": "8m-suTo2FEcB",
        "outputId": "abff5151-0e73-4940-8314-dcefe92aae35"
      },
      "execution_count": 28,
      "outputs": [
        {
          "output_type": "execute_result",
          "data": {
            "text/plain": [
              "False"
            ]
          },
          "metadata": {},
          "execution_count": 28
        }
      ]
    },
    {
      "cell_type": "code",
      "source": [
        "print('Memory address')\n",
        "print('x: ', id(x))\n",
        "print('y: ', id(y))\n",
        "print('z: ', id(z))"
      ],
      "metadata": {
        "colab": {
          "base_uri": "https://localhost:8080/"
        },
        "id": "rioKhxwfFMl8",
        "outputId": "b34844ee-4e3a-4421-ba79-2ce27b7e934d"
      },
      "execution_count": 30,
      "outputs": [
        {
          "output_type": "stream",
          "name": "stdout",
          "text": [
            "Memory address\n",
            "x:  133463512066608\n",
            "y:  133463512066608\n",
            "z:  133463512067056\n"
          ]
        }
      ]
    },
    {
      "cell_type": "code",
      "source": [
        "# Membership  Operatore\n",
        "\n",
        "list1 = [1,2,3,4,5]\n",
        "\n",
        "print(1 in list1)\n",
        "print(6 in list1)\n",
        "print(1 not in list1)\n",
        "print(6 not in list1)"
      ],
      "metadata": {
        "colab": {
          "base_uri": "https://localhost:8080/"
        },
        "id": "xj-HoYbLFwWj",
        "outputId": "529a7d68-6248-4110-c383-0e3b5073f2d6"
      },
      "execution_count": 31,
      "outputs": [
        {
          "output_type": "stream",
          "name": "stdout",
          "text": [
            "True\n",
            "False\n",
            "False\n",
            "True\n"
          ]
        }
      ]
    },
    {
      "cell_type": "code",
      "source": [
        "set1 = {1,2,3,4,5}\n",
        "\n",
        "print(1 in set1)\n",
        "print(6 in set1)\n",
        "print(1 not in set1)\n",
        "print(6 not in set1)"
      ],
      "metadata": {
        "colab": {
          "base_uri": "https://localhost:8080/"
        },
        "id": "Eu8n-gRZGADa",
        "outputId": "8646a44b-d1ce-4479-e831-a50e02fd64c6"
      },
      "execution_count": 32,
      "outputs": [
        {
          "output_type": "stream",
          "name": "stdout",
          "text": [
            "True\n",
            "False\n",
            "False\n",
            "True\n"
          ]
        }
      ]
    },
    {
      "cell_type": "code",
      "source": [
        "st = 'I Love Python'\n",
        "\n",
        "print('Love' in st)\n",
        "print('love' in st)\n",
        "print('Love' not in st)\n",
        "print('love' not in st)"
      ],
      "metadata": {
        "colab": {
          "base_uri": "https://localhost:8080/"
        },
        "id": "H4SQTAmdGEA8",
        "outputId": "2f27f859-8639-4279-960b-5319fec49933"
      },
      "execution_count": 33,
      "outputs": [
        {
          "output_type": "stream",
          "name": "stdout",
          "text": [
            "True\n",
            "False\n",
            "False\n",
            "True\n"
          ]
        }
      ]
    },
    {
      "cell_type": "code",
      "source": [
        "# Bitwise operator\n",
        "\n",
        "p = 1010 #10\n",
        "q = 101 #5\n",
        "\n",
        "p & q = 0000 #0\n",
        "p | q = 1111 #15"
      ],
      "metadata": {
        "id": "sjXkhaKnHUIs"
      },
      "execution_count": null,
      "outputs": []
    },
    {
      "cell_type": "code",
      "source": [
        "p = 10\n",
        "q = 5\n",
        "\n",
        "print('(p & q): ', p & q)\n",
        "print('(p | q): ', p | q)\n",
        "print('~p: ', ~p)\n",
        "print('(p ^ q): ', p ^ q)\n",
        "print('(p << 1): ', p << 1)\n",
        "print('(p >> 1): ', p >> 1)"
      ],
      "metadata": {
        "colab": {
          "base_uri": "https://localhost:8080/"
        },
        "id": "zyv2rMv3HXFx",
        "outputId": "923588f0-a3fc-4576-bf2a-0b5aaaf14450"
      },
      "execution_count": 43,
      "outputs": [
        {
          "output_type": "stream",
          "name": "stdout",
          "text": [
            "(p & q):  0\n",
            "(p | q):  15\n",
            "~p:  -11\n",
            "(p ^ q):  15\n",
            "(p << 1):  20\n",
            "(p >> 1):  5\n"
          ]
        }
      ]
    },
    {
      "cell_type": "code",
      "source": [
        "# Compersion operator\n",
        "p = 10\n",
        "q = 5\n",
        "\n",
        "print('(p == q): ', p == q)\n",
        "print('(p != q): ', p != q)\n",
        "print('(p > q): ', p > q)\n",
        "print('(p < q): ', p < q)\n",
        "print('(p >= q): ', p >= q)\n",
        "print('(p <= q): ', p <= q)"
      ],
      "metadata": {
        "colab": {
          "base_uri": "https://localhost:8080/"
        },
        "id": "Ee_vv6RfHnt4",
        "outputId": "60e2924b-3cc2-48df-9ae0-cae455ab034a"
      },
      "execution_count": 45,
      "outputs": [
        {
          "output_type": "stream",
          "name": "stdout",
          "text": [
            "(p == q):  False\n",
            "(p != q):  True\n",
            "(p > q):  True\n",
            "(p < q):  False\n",
            "(p >= q):  True\n",
            "(p <= q):  False\n"
          ]
        }
      ]
    },
    {
      "cell_type": "code",
      "source": [
        "# Logical Operator\n",
        "x = 10\n",
        "y = 5\n",
        "\n",
        "print('(x>4 and x<10): ', x>4 and x<10)\n",
        "print('(x>4 || x<10): ', x>4 or x<10)\n",
        "print('(not(x>4 and x<10)): ', not(x>4 and x<10))"
      ],
      "metadata": {
        "colab": {
          "base_uri": "https://localhost:8080/"
        },
        "id": "FY5Wl4vZIm9e",
        "outputId": "2ba6f119-f7cb-4c3e-8c78-4d61529af547"
      },
      "execution_count": 47,
      "outputs": [
        {
          "output_type": "stream",
          "name": "stdout",
          "text": [
            "(x>4 and x<10):  False\n",
            "(x>4 || x<10):  True\n",
            "(not(x>4 and x<10)):  True\n"
          ]
        }
      ]
    }
  ]
}