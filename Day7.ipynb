{
  "nbformat": 4,
  "nbformat_minor": 0,
  "metadata": {
    "colab": {
      "provenance": []
    },
    "kernelspec": {
      "name": "python3",
      "display_name": "Python 3"
    },
    "language_info": {
      "name": "python"
    }
  },
  "cells": [
    {
      "cell_type": "markdown",
      "source": [
        "# Conditional Statement"
      ],
      "metadata": {
        "id": "5VEHk_7WJaeK"
      }
    },
    {
      "cell_type": "code",
      "source": [
        "x = 50\n",
        "y = 100\n",
        "\n",
        "if y > x:\n",
        "    print(\"y is greater than x\")\n",
        "elif x == y:\n",
        "    print(\"x and y are equal\")\n",
        "else:\n",
        "    print(\"x is greater than y\")"
      ],
      "metadata": {
        "colab": {
          "base_uri": "https://localhost:8080/"
        },
        "id": "ODUDhdSVJW6Y",
        "outputId": "88eaf5f6-64ba-4bd1-8d71-1adf94c54001"
      },
      "execution_count": 3,
      "outputs": [
        {
          "output_type": "stream",
          "name": "stdout",
          "text": [
            "y is greater than x\n"
          ]
        }
      ]
    },
    {
      "cell_type": "markdown",
      "source": [
        "## Take three integer valuese from user and print greatest among them"
      ],
      "metadata": {
        "id": "-8HcRGo2Kmkn"
      }
    },
    {
      "cell_type": "code",
      "source": [
        "num1 = input(\"Enter first number: \")\n",
        "num2 = input(\"Enter second number: \")\n",
        "num3 = input(\"Enter third number: \")\n",
        "\n",
        "if (num1 >= num2) and (num1 >= num3):\n",
        "    largest = num1\n",
        "elif (num2 >= num1) and (num2 >= num3):\n",
        "    largest = num2\n",
        "else:\n",
        "    largest = num3\n",
        "\n",
        "print(\"The largest number is\", largest)"
      ],
      "metadata": {
        "colab": {
          "base_uri": "https://localhost:8080/"
        },
        "id": "tFuhYiUlKy-O",
        "outputId": "73341d13-12e2-41b3-e044-e740a8201de4"
      },
      "execution_count": 4,
      "outputs": [
        {
          "output_type": "stream",
          "name": "stdout",
          "text": [
            "Enter first number: 50\n",
            "Enter second number: 30\n",
            "Enter third number: 50\n",
            "The largest number is 50\n"
          ]
        }
      ]
    },
    {
      "cell_type": "markdown",
      "source": [
        "## A school has following rules for grading system:\n",
        "### Below 25: F\n",
        "### 25 to 44: E\n",
        "### 45 to 49: D\n",
        "### 50 to 59: C\n",
        "### 60 to 79: B\n",
        "### 80 to 89: A\n",
        "### Above 90: A+\n",
        "### Now, Ask user to enter marks and print the corresponding grade."
      ],
      "metadata": {
        "id": "u5xMWVYrLJ1_"
      }
    },
    {
      "cell_type": "code",
      "source": [
        "marks = int(input(\"Enter the markes: \"))\n",
        "if 0 <= marks <= 100:\n",
        "  if marks < 25:\n",
        "    print(\"Grade: F\")\n",
        "  elif marks < 45:\n",
        "    print(\"Grade: E\")\n",
        "  elif marks < 50:\n",
        "    print(\"Grade: D\")\n",
        "  elif marks < 60:\n",
        "    print(\"Grade: C\")\n",
        "  elif marks < 80:\n",
        "    print(\"Grade: B\")\n",
        "  elif marks < 90:\n",
        "    print(\"Grade: A\")\n",
        "  elif marks < 100:\n",
        "    print(\"Grade: A+\")\n",
        "else :\n",
        "  print(\"Invalid Input!\")"
      ],
      "metadata": {
        "colab": {
          "base_uri": "https://localhost:8080/"
        },
        "id": "fhR7nVjEMAQQ",
        "outputId": "0e1563fb-8d9f-4326-a5a9-43d04363a2a0"
      },
      "execution_count": 7,
      "outputs": [
        {
          "output_type": "stream",
          "name": "stdout",
          "text": [
            "Enter the markes: 0\n",
            "Grade: F\n"
          ]
        }
      ]
    }
  ]
}